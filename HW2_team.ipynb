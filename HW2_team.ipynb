{
 "cells": [
  {
   "cell_type": "code",
   "execution_count": 1,
   "metadata": {},
   "outputs": [],
   "source": [
    "import math\n",
    "import pandas as pd\n",
    "import numpy as np\n",
    "from operator import itemgetter"
   ]
  },
  {
   "cell_type": "code",
   "execution_count": 2,
   "metadata": {},
   "outputs": [],
   "source": [
    "raw_terms=pd.read_csv('term.csv')\n",
    "raw_data=pd.read_csv('text.csv')\n",
    "raw_query=pd.read_csv('query.csv')"
   ]
  },
  {
   "cell_type": "code",
   "execution_count": 3,
   "metadata": {},
   "outputs": [
    {
     "name": "stdout",
     "output_type": "stream",
     "text": [
      "共有 245 個字\n",
      "共有 6 筆query\n",
      "共有 2081 筆data\n"
     ]
    }
   ],
   "source": [
    "terms=list(raw_terms['term'])\n",
    "query=list(raw_query['標題']+raw_query['內容'])\n",
    "data=list(raw_data['標題']+raw_data['內容'])\n",
    "print(\"共有 {} 個字\".format(len(terms)))\n",
    "print(\"共有 {} 筆query\".format(len(query)))\n",
    "print(\"共有 {} 筆data\".format(len(data)))\n",
    "\n",
    "del raw_terms,raw_query"
   ]
  },
  {
   "cell_type": "code",
   "execution_count": 4,
   "metadata": {},
   "outputs": [],
   "source": [
    "#前處理\n",
    "word2id={}\n",
    "id2word=[]\n",
    "for i,term in enumerate(terms):\n",
    "    word2id[term]=i\n",
    "    id2word.append(term)\n",
    "del terms"
   ]
  },
  {
   "cell_type": "code",
   "execution_count": 5,
   "metadata": {},
   "outputs": [],
   "source": [
    "#建tf-idf\n",
    "#算語料集和查詢集的tf值\n",
    "#建245維向量，每維代表每個字在這篇文章中的tf值\n",
    "query_tf=[]\n",
    "for q in query:\n",
    "    tmp=[]\n",
    "    for term in id2word:\n",
    "        tmp.append(q.count(term))\n",
    "    query_tf.append(tmp)\n",
    "\n",
    "data_tf=[]\n",
    "for d in data:\n",
    "    tmp=[]\n",
    "    for term in id2word:\n",
    "        tmp.append(d.count(term))\n",
    "    data_tf.append(tmp)"
   ]
  },
  {
   "cell_type": "code",
   "execution_count": 6,
   "metadata": {},
   "outputs": [],
   "source": [
    "#每維代表每個字的df值\n",
    "df=[]\n",
    "for term in id2word:\n",
    "    df.append(0)\n",
    "    for d in data:\n",
    "        if term in d:\n",
    "            df[word2id[term]]+=1"
   ]
  },
  {
   "cell_type": "code",
   "execution_count": 7,
   "metadata": {},
   "outputs": [],
   "source": [
    "def idf(N,df):\n",
    "    return math.log(N/df)"
   ]
  },
  {
   "cell_type": "code",
   "execution_count": 8,
   "metadata": {},
   "outputs": [],
   "source": [
    "#美維代表每個字的tf-idf值\n",
    "query_vec=[]\n",
    "data_vec=[]\n",
    "doc_num=len(data)\n",
    "\n",
    "for tf in data_tf:\n",
    "    tmp=[]\n",
    "    for i in range(len(id2word)):\n",
    "        tmp.append(tf[i]*idf(doc_num,df[i]))\n",
    "    data_vec.append(tmp)\n",
    "for tf in query_tf:\n",
    "    tmp=[]\n",
    "    for i in range(len(id2word)):\n",
    "        tmp.append(tf[i]*idf(doc_num,df[i]))\n",
    "    query_vec.append(tmp)"
   ]
  },
  {
   "cell_type": "code",
   "execution_count": 9,
   "metadata": {},
   "outputs": [],
   "source": [
    "def get_expected_tf(doc_tf,df):\n",
    "    result=[0]*len(doc_tf[0])\n",
    "    for d in doc_tf:\n",
    "        for i in range(len(d)):\n",
    "            result[i]+=(d[i]/df[i])\n",
    "    return result"
   ]
  },
  {
   "cell_type": "code",
   "execution_count": 10,
   "metadata": {},
   "outputs": [],
   "source": [
    "def chi_square(O,E):\n",
    "    sign=-1 if E>O else 1\n",
    "    return(O-E)**2/E*sign"
   ]
  },
  {
   "cell_type": "code",
   "execution_count": 11,
   "metadata": {},
   "outputs": [],
   "source": [
    "#美維代表每字的chi-square\n",
    "query_vec=[]\n",
    "data_vec=[]\n",
    "doc_num=len(data)\n",
    "\n",
    "expected_tf=get_expected_tf(data_tf,df)\n",
    "\n",
    "for tf in data_tf:\n",
    "    tmp=[]\n",
    "    for i in range(len(id2word)):\n",
    "        tmp.append(chi_square(tf[i],expected_tf[i]))\n",
    "    data_vec.append(tmp)\n",
    "    \n",
    "for tf in query_tf:\n",
    "    tmp=[]\n",
    "    for i in range(len(id2word)):\n",
    "        tmp.append(chi_square(tf[i],expected_tf[i]))\n",
    "    query_vec.append(tmp)"
   ]
  },
  {
   "cell_type": "code",
   "execution_count": 15,
   "metadata": {},
   "outputs": [],
   "source": [
    "#算相似度\n",
    "def cal_score(q_vec,d_vec):\n",
    "    q_vec=np.array(q_vec)\n",
    "    d_vec=np.array(d_vec)\n",
    "    norm_q=np.sqrt(np.sum(q_vec**2))\n",
    "    norm_d=np.sqrt(np.sum(d_vec**2))\n",
    "    \n",
    "    return np.dot(q_vec,d_vec)/(norm_q*norm_d)"
   ]
  },
  {
   "cell_type": "code",
   "execution_count": 16,
   "metadata": {},
   "outputs": [],
   "source": [
    "#拿查詢集的第一筆資料來和語料集做相似度\n",
    "q_id=0\n",
    "data_score=[]\n",
    "for i , d in enumerate(data_vec):\n",
    "    data_score.append((i,cal_score(query_vec[q_id],d)))"
   ]
  },
  {
   "cell_type": "code",
   "execution_count": 17,
   "metadata": {},
   "outputs": [
    {
     "name": "stdout",
     "output_type": "stream",
     "text": [
      "編號                                                   65\n",
      "類別                                                 鴻海新聞\n",
      "時間                                       1/15/2016 8:30\n",
      "標題                                鴻海傳加碼至7,000億日圓搶親 夏普飆漲\n",
      "內容    日本讀賣新聞報導，鴻海考慮提高投資夏普的金額，一口氣從5,000億日圓加碼至7,000億日圓...\n",
      "Name: 64, dtype: object\n",
      "編號                                                  733\n",
      "類別                                                 鴻海新聞\n",
      "時間                                       2/5/2016 18:37\n",
      "標題                                         夏普否認給鴻海優先談判權\n",
      "內容    彭博資訊報導，日本夏普公司5日表示，否認給予鴻海優先交涉權的報導，指出鴻海作為優先合作夥伴的...\n",
      "Name: 732, dtype: object\n",
      "編號                                                 1030\n",
      "類別                                                 鴻海新聞\n",
      "時間                                       3/10/2016 2:40\n",
      "標題                                    鴻夏戀／明天311 不會有重大宣布\n",
      "內容    日本媒體原先預期鴻夏將在本周有結果，不過昨（9）日外電指出，適逢明（11）日是日本東北311...\n",
      "Name: 1029, dtype: object\n"
     ]
    }
   ],
   "source": [
    "#排序\n",
    "data_score.sort(key=itemgetter(1),reverse=True)\n",
    "#取前三名\n",
    "for d in data_score[:3]:\n",
    "    print(raw_data.iloc[d[0]])"
   ]
  },
  {
   "cell_type": "code",
   "execution_count": null,
   "metadata": {},
   "outputs": [],
   "source": []
  }
 ],
 "metadata": {
  "kernelspec": {
   "display_name": "Python 3",
   "language": "python",
   "name": "python3"
  },
  "language_info": {
   "codemirror_mode": {
    "name": "ipython",
    "version": 3
   },
   "file_extension": ".py",
   "mimetype": "text/x-python",
   "name": "python",
   "nbconvert_exporter": "python",
   "pygments_lexer": "ipython3",
   "version": "3.7.1"
  }
 },
 "nbformat": 4,
 "nbformat_minor": 2
}
